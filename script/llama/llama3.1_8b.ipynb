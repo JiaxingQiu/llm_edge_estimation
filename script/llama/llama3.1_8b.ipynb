{
 "cells": [
  {
   "cell_type": "code",
   "execution_count": 1,
   "metadata": {},
   "outputs": [
    {
     "name": "stderr",
     "output_type": "stream",
     "text": [
      "/Users/joyqiu/Library/Python/3.9/lib/python/site-packages/urllib3/__init__.py:35: NotOpenSSLWarning: urllib3 v2 only supports OpenSSL 1.1.1+, currently the 'ssl' module is compiled with 'LibreSSL 2.8.3'. See: https://github.com/urllib3/urllib3/issues/3020\n",
      "  warnings.warn(\n",
      "/Users/joyqiu/Library/Python/3.9/lib/python/site-packages/tqdm/auto.py:21: TqdmWarning: IProgress not found. Please update jupyter and ipywidgets. See https://ipywidgets.readthedocs.io/en/stable/user_install.html\n",
      "  from .autonotebook import tqdm as notebook_tqdm\n"
     ]
    }
   ],
   "source": [
    "import sys\n",
    "import os\n",
    "sys.path.append(os.path.abspath('../..'))  # Adds the parent directory of 'script' to Python path\n",
    "\n",
    "from script.utils.model_utils import *\n",
    "from script.utils.data_utils import *\n",
    "from script.utils.eval_utils import *\n",
    "from script.utils.prompt_utils import *"
   ]
  },
  {
   "cell_type": "code",
   "execution_count": 2,
   "metadata": {},
   "outputs": [],
   "source": [
    "# Initialize model\n",
    "model_name = \"meta-llama/Llama-3.1-8B-Instruct\"\n",
    "model, tokenizer = setup_model(model_name)"
   ]
  },
  {
   "cell_type": "code",
   "execution_count": 3,
   "metadata": {},
   "outputs": [
    {
     "data": {
      "image/png": "[encoded data removed]",
      "text/plain": [
       "<Figure size 640x480 with 2 Axes>"
      ]
     },
     "metadata": {},
     "output_type": "display_data"
    }
   ],
   "source": [
    "# Load and process data\n",
    "label_df, label_df_human, fea_df = load_and_process_labels(\n",
    "    \"../../data/post1080.csv\",\n",
    "    \"llama\",\n",
    "    \"../../data/fea.csv\"\n",
    ")\n",
    "label_df2 = label_df.copy()\n",
    "label_df2 = label_df2.drop(columns=['raw_text'])\n",
    "label_df3 = label_df.copy()\n",
    "label_df3 = label_df3.drop(columns=['raw_text'])\n",
    "\n",
    "pft = check_precision_recall(label_df, label_df_human, fea_df)\n"
   ]
  },
  {
   "cell_type": "code",
   "execution_count": null,
   "metadata": {},
   "outputs": [],
   "source": [
    "from tqdm import tqdm\n",
    "\n",
    "count = 0\n",
    "for sm_id in tqdm(label_df.index, desc=\"Processing each post\") :# '1068zm3' is a good test sm_id\n",
    "    count += 1\n",
    "    # get the raw text of this sm_id\n",
    "    raw_text = label_df.loc[sm_id, 'raw_text']\n",
    "    \n",
    "    # ----- 1. Detect potential false negatives -----\n",
    "    # collect all positive labels for all features in fea_df.fea for this sm_id \n",
    "    sm_pos = [col for col in label_df.columns if col != 'raw_text' and label_df.loc[sm_id, col] == 1]\n",
    "    # collect all negative labels for all features in fea_df.fea for this sm_id \n",
    "    sm_neg = [col for col in label_df.columns if col != 'raw_text' and label_df.loc[sm_id, col] == 0]\n",
    "    # new postives\n",
    "    new_pos = []\n",
    "    if len(sm_pos) >= 1:\n",
    "        sm_posneg_matrix = get_pos_neg_matrix(sm_pos, sm_neg, raw_text, tokenizer, model)\n",
    "        sm_posneg_matrix = sm_posneg_matrix.transpose()\n",
    "        sm_posneg_matrix['yes_ratio'] = sm_posneg_matrix.apply(lambda row: 1-row.value_counts().get('no.', 0) / len(row), axis=1)\n",
    "        new_pos += sm_posneg_matrix[sm_posneg_matrix['yes_ratio'] > 0.5].index.tolist()\n",
    "    if len(new_pos)>0:\n",
    "        # store the result in 2nd shot label_df: label_df2\n",
    "        for col in new_pos:\n",
    "            label_df2.loc[sm_id, col] = 1\n",
    "            label_df3.loc[sm_id, col] = 1\n",
    "    pft_new = check_precision_recall(label_df2, label_df_human, fea_df, plot=False)\n",
    "    if count % 10 == 0:# plot for every 10 sm_id\n",
    "        plot_precision_recall_diff(pft_new, pft)\n",
    "        pft = pft_new\n",
    "        \n",
    "    # ----- 2. Detect potential false positives -----\n",
    "    # collect all positive labels for all features in fea_df.fea for this sm_id \n",
    "    sm_pos = [col for col in label_df2.columns if col != 'raw_text' and label_df2.loc[sm_id, col] == 1]\n",
    "    # new negatives\n",
    "    new_neg = []\n",
    "    if len(sm_pos) > 1:\n",
    "        sm_pospos_matrix = get_pos_pos_matrix(sm_pos, raw_text, tokenizer, model)\n",
    "        sm_pospos_matrix = sm_pospos_matrix.transpose()\n",
    "        sm_pospos_matrix['no_ratio'] = sm_pospos_matrix.apply(lambda row: row.value_counts().get('no.', 0) / len(row), axis=1)\n",
    "        new_neg += sm_pospos_matrix[sm_pospos_matrix['no_ratio'] > 0.5].index.tolist()\n",
    "    if len(new_neg)>0:\n",
    "        # store the result in 3rd shot label_df: label_df3\n",
    "        for col in new_neg:\n",
    "            label_df3.loc[sm_id, col] = 0\n",
    "    pft_new = check_precision_recall(label_df3, label_df_human, fea_df, plot=False)\n",
    "    if count % 10 == 0:# plot for every 10 sm_id\n",
    "        plot_precision_recall_diff(pft_new, pft)\n",
    "        pft = pft_new\n",
    "    "
   ]
  }
 ],
 "metadata": {
  "kernelspec": {
   "display_name": "Python 3",
   "language": "python",
   "name": "python3"
  },
  "language_info": {
   "codemirror_mode": {
    "name": "ipython",
    "version": 3
   },
   "file_extension": ".py",
   "mimetype": "text/x-python",
   "name": "python",
   "nbconvert_exporter": "python",
   "pygments_lexer": "ipython3",
   "version": "3.9.6"
  }
 },
 "nbformat": 4,
 "nbformat_minor": 2
}
